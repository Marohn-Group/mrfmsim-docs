{
 "cells": [
  {
   "attachments": {},
   "cell_type": "markdown",
   "metadata": {},
   "source": [
    "# MrfmSim Overview\n",
    "\n",
    "The notebook includes everything mentioned in the overview page in the MrfmSim documentation.\n",
    "\n",
    "The notebook saves three graph pdf drawings in the same working directory of this notebook. To turn off file saving, use `draw()`instead of ``draw(export=...)`` for the models."
   ]
  },
  {
   "cell_type": "code",
   "execution_count": null,
   "metadata": {},
   "outputs": [],
   "source": [
    "%pip install git+git://github.com/Marohn-Group/mmodel@develop\n",
    "%pip install git+git://github.com/Marohn-Group/mrmfsim@develop\n",
    "%pip install git+git://github.com/Marohn-Group/mrmfsim-marohn@develop"
   ]
  },
  {
   "cell_type": "code",
   "execution_count": null,
   "metadata": {},
   "outputs": [],
   "source": [
    "# Load the plugins\n",
    "\n",
    "import mrfmsim\n",
    "mrfmsim.load_plugin()"
   ]
  },
  {
   "cell_type": "code",
   "execution_count": null,
   "metadata": {},
   "outputs": [],
   "source": [
    "# define the input parameters\n",
    "\n",
    "from mrfmsim.component import SphereMagnet, Grid, Sample, Cantilever\n",
    "\n",
    "sample = Sample(\n",
    "    spin_type=\"electron\",\n",
    "    temperature=11.0,\n",
    "    T1=1.3e-3,\n",
    "    T2=0.45e-6,\n",
    "    spin_density=0.5,\n",
    ")\n",
    "magnet = SphereMagnet(radius=3300.0, mu0_Ms=440.0, origin=[0, 0, 3300])\n",
    "grid = Grid(shape=[400, 1200, 8], step=[25, 25, 25], origin=[0, 0, -100])\n",
    "cantilever = Cantilever(k_c=7.8e5, f_c=4.975e6)\n",
    "\n",
    "B1 = 1.3e-3  # transverse magnetic field\n",
    "mw_x_0p = 100  # zero to peak amplitude of the cantilever motion [nm]\n",
    "B0 = 500  # external field [mT]\n",
    "f_rf = 19e9  # microwave frequency [Hz]\n",
    "h = [0, 0, 1450]  # tip sample separation [nm]\n"
   ]
  },
  {
   "attachments": {},
   "cell_type": "markdown",
   "metadata": {},
   "source": [
    "## Graph representation and metadata"
   ]
  },
  {
   "cell_type": "code",
   "execution_count": null,
   "metadata": {},
   "outputs": [],
   "source": [
    "# import the experiments and draw the experiment graph\n",
    "\n",
    "from mrfmsim.experiment import cermitesr\n",
    "\n",
    "print(cermitesr)\n",
    "cermitesr.draw(export=\"cermitesr.pdf\")\n",
    "# cermitesr.draw() # output in notebook only"
   ]
  },
  {
   "attachments": {},
   "cell_type": "markdown",
   "metadata": {},
   "source": [
    "## Model Modification\n",
    "\n",
    "### Run time profiling"
   ]
  },
  {
   "cell_type": "code",
   "execution_count": null,
   "metadata": {},
   "outputs": [],
   "source": [
    "from mrfmsim.shortcut import modifier_shortcut\n",
    "from mrfmsim.modifier import profile_time\n",
    "\n",
    "mod_dict = {\n",
    "    \"minimum absolute x offset\": [profile_time()],\n",
    "    \"relative polarization change\": [profile_time(10)],\n",
    "}\n",
    "\n",
    "cermitesr_profile = modifier_shortcut(cermitesr, mod_dict, name=\"CermitESR_Profile\")\n",
    "\n",
    "cermitesr_profile(B0, B1, cantilever, f_rf, grid, h, magnet, mw_x_0p, sample)"
   ]
  },
  {
   "attachments": {},
   "cell_type": "markdown",
   "metadata": {},
   "source": [
    "### Output values during execution"
   ]
  },
  {
   "cell_type": "code",
   "execution_count": null,
   "metadata": {},
   "outputs": [],
   "source": [
    "from mrfmsim.shortcut import print_shortcut\n",
    "from mrfmsim_marohn import UNITS\n",
    "\n",
    "cermitesr_stdout = print_shortcut(cermitesr, [\"f_rf\", \"dk_spin\", \"df_spin\"], units=UNITS, name=\"CermitESR_Stdout\")\n",
    "\n",
    "cermitesr_stdout(B0, B1, cantilever, f_rf, grid, h, magnet, mw_x_0p, sample)"
   ]
  },
  {
   "attachments": {},
   "cell_type": "markdown",
   "metadata": {},
   "source": [
    "### Optimal looping"
   ]
  },
  {
   "cell_type": "code",
   "execution_count": null,
   "metadata": {},
   "outputs": [],
   "source": [
    "from mrfmsim.shortcut import loop_shortcut\n",
    "\n",
    "# loop f_rf\n",
    "\n",
    "cermitesr_frf_loop = loop_shortcut(cermitesr_stdout, \"f_rf\", name=\"CermitESR_frfLoop\")\n",
    "\n",
    "cermitesr_frf_loop.draw(export=\"cermitesr_frf_loop.pdf\")\n"
   ]
  },
  {
   "cell_type": "code",
   "execution_count": null,
   "metadata": {},
   "outputs": [],
   "source": [
    "# loop B0\n",
    "\n",
    "cermitesr_b0_frf_loop = loop_shortcut(\n",
    "    cermitesr_frf_loop, \"B0\", name=\"CermitESR_b0frfLoop\"\n",
    ")\n",
    "\n",
    "cermitesr_b0_frf_loop.draw(export=\"cermitesr_b0_frf_loop.pdf\")\n"
   ]
  },
  {
   "cell_type": "code",
   "execution_count": null,
   "metadata": {},
   "outputs": [],
   "source": [
    "import numpy as np\n",
    "\n",
    "B0_list = np.arange(500, 900, 200)  # external field [mT]\n",
    "f_rf_list = np.arange(18.5e9, 19.5e9, 0.5e9)  # microwave frequency [Hz]\n",
    "\n",
    "# execute the model\n",
    "\n",
    "cermitesr_b0_frf_loop(\n",
    "    B0=B0_list,\n",
    "    B1=B1,\n",
    "    cantilever=cantilever,\n",
    "    f_rf=f_rf_list,\n",
    "    grid=grid,\n",
    "    h=h,\n",
    "    magnet=magnet,\n",
    "    mw_x_0p=mw_x_0p,\n",
    "    sample=sample,\n",
    ")\n"
   ]
  }
 ],
 "metadata": {
  "kernelspec": {
   "display_name": "mrfmsim",
   "language": "python",
   "name": "python3"
  },
  "language_info": {
   "codemirror_mode": {
    "name": "ipython",
    "version": 3
   },
   "file_extension": ".py",
   "mimetype": "text/x-python",
   "name": "python",
   "nbconvert_exporter": "python",
   "pygments_lexer": "ipython3",
   "version": "3.8.13"
  },
  "orig_nbformat": 4
 },
 "nbformat": 4,
 "nbformat_minor": 2
}
